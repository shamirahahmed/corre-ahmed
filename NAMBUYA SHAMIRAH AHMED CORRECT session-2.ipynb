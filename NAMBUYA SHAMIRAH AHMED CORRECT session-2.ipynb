{
 "cells": [
  {
   "cell_type": "markdown",
   "metadata": {},
   "source": [
    "# Basic Python Types\n",
    "\n",
    "This lesson covers:\n",
    "\n",
    "* Inputting scalars and strings\n",
    "* Lists\n",
    "* Tuples\n",
    "* Dictionaries\n"
   ]
  },
  {
   "cell_type": "markdown",
   "metadata": {},
   "source": [
    "## Problem: Input scalar floating point and integers\n",
    "\n",
    "1. Create a variable called `scalar_float` containing $\\pi$ to 4 digits.\n",
    "2. Create a variable called `scalar_int` containing 31415. \n",
    "3. Print each value using the `print` function.   "
   ]
  },
  {
   "cell_type": "code",
   "execution_count": 2,
   "metadata": {},
   "outputs": [],
   "source": [
    "import math"
   ]
  },
  {
   "cell_type": "code",
   "execution_count": 3,
   "metadata": {},
   "outputs": [],
   "source": [
    "scalar_float=round(math.pi,4) #float-numbers with decimal points"
   ]
  },
  {
   "cell_type": "code",
   "execution_count": 4,
   "metadata": {},
   "outputs": [],
   "source": [
    "scalar_int=31415 #int-whole numbers\n"
   ]
  },
  {
   "cell_type": "code",
   "execution_count": 5,
   "metadata": {},
   "outputs": [
    {
     "name": "stdout",
     "output_type": "stream",
     "text": [
      "Value of scalar_float: 3.1416\n",
      "Value of scalar_int: 31415\n"
     ]
    }
   ],
   "source": [
    "print(\"Value of scalar_float:\", scalar_float)\n",
    "print(\"Value of scalar_int:\", scalar_int)"
   ]
  },
  {
   "cell_type": "markdown",
   "metadata": {},
   "source": [
    "## Problem: Create a string and an f-string\n",
    "\n",
    "1. Create a variable called `a_string` containing `This is a string`\n",
    "2. Create a f-string the prints `The value of scalar_float is 3.1415` using\n",
    "   the variable created in the previous step\n",
    "3. Create two string, `first` containing `String concatenation` and the\n",
    "   second containing ` is like addition`, and join the two using `+` to produce\n",
    "   `String concatenation is like addition`. "
   ]
  },
  {
   "cell_type": "code",
   "execution_count": 6,
   "metadata": {},
   "outputs": [],
   "source": [
    "a_string=\"This is a string\""
   ]
  },
  {
   "cell_type": "code",
   "execution_count": 7,
   "metadata": {},
   "outputs": [
    {
     "name": "stdout",
     "output_type": "stream",
     "text": [
      "The Value of scalar_float is 3.1416\n"
     ]
    }
   ],
   "source": [
    "f_string = f\"The Value of scalar_float is {scalar_float}\"\n",
    "print(f_string)\n"
   ]
  },
  {
   "cell_type": "code",
   "execution_count": 8,
   "metadata": {},
   "outputs": [
    {
     "name": "stdout",
     "output_type": "stream",
     "text": [
      "String concatenation is like addition\n"
     ]
    }
   ],
   "source": [
    "first_string = \"String concatenation\"\n",
    "second_string = \" is like addition\"\n",
    "result_string = first_string + second_string\n",
    "print(result_string)"
   ]
  },
  {
   "cell_type": "markdown",
   "metadata": {},
   "source": [
    "## Problem: Create a list\n",
    "\n",
    "1. Create a list containing `scalar_float` and `scalar_int`\n",
    "2. Add `a_string` to the list.\n",
    "3. Select the second element from the list \n",
    "4. Select the the lst two elements of the list"
   ]
  },
  {
   "cell_type": "code",
   "execution_count": 9,
   "metadata": {},
   "outputs": [
    {
     "name": "stdout",
     "output_type": "stream",
     "text": [
      "[2.23, 79, 1.618, 9, 2.67, 'color']\n"
     ]
    }
   ],
   "source": [
    "#In this list, 3.14, 1.618, and 2.718 are scalar_float values (floating-point numbers), while 42 and 7 are scalar_int values (integers). You can add more values of these types to the list as needed.\n",
    "#float is\n",
    "m_list=[2.23, 79, 1.618, 9, 2.67,] #list containing scalar_float and scalar_int.\n",
    "a_string = \"color\"\n",
    "m_list.append(a_string)\n",
    "print(m_list)\n"
   ]
  },
  {
   "cell_type": "code",
   "execution_count": 10,
   "metadata": {},
   "outputs": [
    {
     "name": "stdout",
     "output_type": "stream",
     "text": [
      "1.618\n"
     ]
    }
   ],
   "source": [
    "selected_items=m_list[2] #selecting second element from the list \n",
    "print(selected_items)"
   ]
  },
  {
   "cell_type": "code",
   "execution_count": 11,
   "metadata": {},
   "outputs": [
    {
     "name": "stdout",
     "output_type": "stream",
     "text": [
      "[2.23, 79]\n"
     ]
    }
   ],
   "source": [
    "selected_items=m_list[0:2]\n",
    "print(selected_items)"
   ]
  },
  {
   "cell_type": "markdown",
   "metadata": {},
   "source": [
    "## Problem: Create a list of lists\n",
    "\n",
    "1. Create a list containing the two lists `[1, 2, 3]` and `[4, 5, 6]`\n",
    "2. Select the element 5 from the nested list"
   ]
  },
  {
   "cell_type": "code",
   "execution_count": 12,
   "metadata": {},
   "outputs": [],
   "source": [
    "r_list = [[1, 2, 3], [4, 5, 6]]"
   ]
  },
  {
   "cell_type": "code",
   "execution_count": 13,
   "metadata": {},
   "outputs": [
    {
     "name": "stdout",
     "output_type": "stream",
     "text": [
      "5\n"
     ]
    }
   ],
   "source": [
    "r_list = [[1, 2, 3], [4, 5, 6]]\n",
    "element = r_list[1][1]  # Access the second list (index 1) and then the second element (index 1) within that list.\n",
    "print(element)  # This will output: 5"
   ]
  },
  {
   "cell_type": "markdown",
   "metadata": {
    "pycharm": {
     "name": "#%% md\n"
    }
   },
   "source": [
    "## Problem: Create a tuple\n",
    "\n",
    "1. Create a tuple containing the values (1, 2.0, \"c\")\n",
    "2. Select the element \"c\" from the tuple"
   ]
  },
  {
   "cell_type": "code",
   "execution_count": 14,
   "metadata": {},
   "outputs": [],
   "source": [
    "y=(1,2.0,\"c\") #tuple"
   ]
  },
  {
   "cell_type": "code",
   "execution_count": 15,
   "metadata": {},
   "outputs": [
    {
     "name": "stdout",
     "output_type": "stream",
     "text": [
      "c\n"
     ]
    }
   ],
   "source": [
    "element=y[2]\n",
    "print(element)"
   ]
  },
  {
   "cell_type": "markdown",
   "metadata": {},
   "source": [
    "## Problem: Convert a list to a tuple and back\n",
    "\n",
    "1. Convert the list-of-lists created to a tuple-of-tuples\n",
    "2. Convert the tuple-of-tuples back to a list of lists"
   ]
  },
  {
   "cell_type": "code",
   "execution_count": 34,
   "metadata": {},
   "outputs": [
    {
     "name": "stdout",
     "output_type": "stream",
     "text": [
      "((8, 7), (9, 9), (5, 5))\n"
     ]
    }
   ],
   "source": [
    "list_of_lists = [[8, 7], [9, 9], [5, 5]] #lists\n",
    "#convert list_of_lists to tuple_of_tuples\n",
    "tuple_of_tuples = tuple(tuple(inner_list) for inner_list in list_of_lists)\n",
    "\n",
    "print(tuple_of_tuples)"
   ]
  },
  {
   "cell_type": "code",
   "execution_count": 35,
   "metadata": {},
   "outputs": [
    {
     "name": "stdout",
     "output_type": "stream",
     "text": [
      "[[8, 7], [9, 9], [5, 5]]\n"
     ]
    }
   ],
   "source": [
    "tuple_of_tuples = ((8, 7), (9, 9), (5, 5)) #tuples\n",
    "\n",
    "# Convert to a list of lists\n",
    "list_of_lists = [list(inner_tuple) for inner_tuple in tuple_of_tuples]\n",
    "\n",
    "print(list_of_lists)"
   ]
  },
  {
   "cell_type": "markdown",
   "metadata": {},
   "source": [
    "## Problem: Create a dictionary\n",
    "\n",
    "1. Create a dictionary containing the key-value pairs `\"float\"` and 3.1415,\n",
    "   `\"int\"` and 31415, and `\"string\"` and `\"three-point-one-four-one-five\"`."
   ]
  },
  {
   "cell_type": "code",
   "execution_count": 36,
   "metadata": {},
   "outputs": [
    {
     "name": "stdout",
     "output_type": "stream",
     "text": [
      "{'float': 3.1415, 'int': 31415, 'string': 'three_point_one_four_one_five'}\n"
     ]
    }
   ],
   "source": [
    "my_dict = {\n",
    "    \"float\": 3.1415,\n",
    "    \"int\": 31415,\n",
    "    \"string\": \"three_point_one_four_one_five\"\n",
    "}\n",
    "\n",
    "print(my_dict)"
   ]
  },
  {
   "cell_type": "markdown",
   "metadata": {},
   "source": [
    "## Problem: Lookup and Change a value\n",
    "\n",
    "1. Look up the value of `\"float\"`.\n",
    "2. Change the value of `\"float\"` to `22 / 7`."
   ]
  },
  {
   "cell_type": "code",
   "execution_count": 37,
   "metadata": {},
   "outputs": [
    {
     "name": "stdout",
     "output_type": "stream",
     "text": [
      "3.1415\n"
     ]
    }
   ],
   "source": [
    "my_dict = {\n",
    "    \"float\": 3.1415,\n",
    "    \"int\": 31415,\n",
    "    \"string\": \"three_point_one_four_one_five\"\n",
    "}\n",
    "\n",
    "# Look up the value associated with the key \"float\"\n",
    "value = my_dict[\"float\"]\n",
    "\n",
    "print(value)"
   ]
  },
  {
   "cell_type": "code",
   "execution_count": 38,
   "metadata": {},
   "outputs": [
    {
     "name": "stdout",
     "output_type": "stream",
     "text": [
      "{'float': 3.142857142857143, 'int': 31415, 'string': 'three_point_one_four_one_five'}\n"
     ]
    }
   ],
   "source": [
    "my_dict = {\n",
    "    \"float\": 3.1415,\n",
    "    \"int\": 31415,\n",
    "    \"string\": \"three_point_one_four_one_five\"\n",
    "}\n",
    "\n",
    "# Change the value associated with the key \"float\" to 22/7\n",
    "my_dict[\"float\"] = 22/7\n",
    "\n",
    "print(my_dict)\n",
    "\n",
    "\n",
    "\n",
    "\n",
    "\n",
    "\n"
   ]
  },
  {
   "cell_type": "markdown",
   "metadata": {},
   "source": [
    "## Problem: Add and remove a key \n",
    "\n",
    "1. Add the new key \"better_float\" with the value 3.141592.\n",
    "2. Remove the key \"float\" and its value."
   ]
  },
  {
   "cell_type": "code",
   "execution_count": 39,
   "metadata": {},
   "outputs": [
    {
     "name": "stdout",
     "output_type": "stream",
     "text": [
      "{'float': 3.1415, 'int': 31415, 'string': 'three_point_one_four_one_five', 'better_float': 3.141592}\n"
     ]
    }
   ],
   "source": [
    "my_dict = {\n",
    "    \"float\": 3.1415,\n",
    "    \"int\": 31415,\n",
    "    \"string\": \"three_point_one_four_one_five\"\n",
    "}\n",
    "\n",
    "# Add the new key-value pair \"better_float\" with the value 3.141592\n",
    "my_dict[\"better_float\"] = 3.141592\n",
    "\n",
    "print(my_dict)"
   ]
  },
  {
   "cell_type": "code",
   "execution_count": 40,
   "metadata": {},
   "outputs": [
    {
     "name": "stdout",
     "output_type": "stream",
     "text": [
      "{'int': 31415, 'string': 'three_point_one_four_one_five', 'better_float': 3.141592}\n"
     ]
    }
   ],
   "source": [
    "my_dict = {\n",
    "    \"float\": 3.1415,\n",
    "    \"int\": 31415,\n",
    "    \"string\": \"three_point_one_four_one_five\",\n",
    "    \"better_float\": 3.141592\n",
    "}\n",
    "\n",
    "# Remove the key \"float\" and its value\n",
    "my_dict.pop(\"float\")\n",
    "\n",
    "print(my_dict)"
   ]
  },
  {
   "cell_type": "code",
   "execution_count": 42,
   "metadata": {},
   "outputs": [
    {
     "name": "stdout",
     "output_type": "stream",
     "text": [
      "{'int': 31415, 'string': 'three_point_one_four_one_five', 'better_float': 3.141592}\n"
     ]
    }
   ],
   "source": [
    "#Using the del statement:\n",
    "\n",
    "#python\n",
    "#Copy code\n",
    "my_dict = {\n",
    "    \"float\": 3.1415,\n",
    "    \"int\": 31415,\n",
    "    \"string\": \"three_point_one_four_one_five\",\n",
    "    \"better_float\": 3.141592\n",
    "}\n",
    "\n",
    "# Remove the key \"float\" and its value\n",
    "del my_dict[\"float\"]\n",
    "\n",
    "print(my_dict)"
   ]
  },
  {
   "cell_type": "markdown",
   "metadata": {
    "pycharm": {
     "name": "#%% md\n"
    }
   },
   "source": [
    "## Exercises\n",
    "\n",
    "### Exercise: Manipulating lists\n",
    "\n",
    "1. Create an empty list called `lst`\n",
    "2. Add the elements `9`, `\"Eight\"` and `7.0` (in order) to the list.\n",
    "3. Extend the list with the list `[\"Six\", 5, 4.0]` using `extend`\n",
    "4. Select first 4 elements of `lst`\n",
    "5. Select last 3 elements of `lst`\n"
   ]
  },
  {
   "cell_type": "code",
   "execution_count": 17,
   "metadata": {},
   "outputs": [],
   "source": [
    "first=[] #empty list"
   ]
  },
  {
   "cell_type": "code",
   "execution_count": 18,
   "metadata": {},
   "outputs": [],
   "source": [
    "first.append('eight') #.aapend is adding something to a list\n",
    "first.append(7.0)\n",
    "first.append(9)"
   ]
  },
  {
   "cell_type": "code",
   "execution_count": 19,
   "metadata": {},
   "outputs": [
    {
     "name": "stdout",
     "output_type": "stream",
     "text": [
      "[9, 'eight', 7.0, 'Six', 5, 4.0]\n"
     ]
    }
   ],
   "source": [
    "first=[9,\"eight\",7.0] #etend the list \n",
    "second=[\"Six\",5,4.0]\n",
    "first.extend(second)\n",
    "print(first)\n"
   ]
  },
  {
   "cell_type": "code",
   "execution_count": 20,
   "metadata": {},
   "outputs": [
    {
     "name": "stdout",
     "output_type": "stream",
     "text": [
      "[9, 'Eight', 7.0, 'Six', 5, 4.0]\n"
     ]
    }
   ],
   "source": [
    "first=[9,\"Eight\",7.0,\"Six\",5,4.0] \n",
    "print(first)"
   ]
  },
  {
   "cell_type": "code",
   "execution_count": 21,
   "metadata": {},
   "outputs": [
    {
     "name": "stdout",
     "output_type": "stream",
     "text": [
      "[9, 'Eight', 7.0, 'Six']\n"
     ]
    }
   ],
   "source": [
    "selected_items=first[0:4] #selecting first 4 items\n",
    "print(selected_items)"
   ]
  },
  {
   "cell_type": "code",
   "execution_count": 22,
   "metadata": {},
   "outputs": [
    {
     "name": "stdout",
     "output_type": "stream",
     "text": [
      "['Six', 5, 4.0]\n"
     ]
    }
   ],
   "source": [
    "first = [9, 'eight', 7.0, 'Six', 5, 4.0]  #selecting last 3 items\n",
    "selected_items=first[-3:]\n",
    "print(selected_items)\n"
   ]
  },
  {
   "cell_type": "markdown",
   "metadata": {
    "pycharm": {
     "name": "#%% md\n"
    }
   },
   "source": [
    "### Exercise: Dictionary Manipulation\n",
    "\n",
    "1. Create a empty dictionary called `dct`\n",
    "2. Add the pairs \"apple\" and 1, \"banana\" and 2.0, and \"cherry\" and \"iii\"\n",
    "3. Replace the value of \"apple\" with \"I\"\n",
    "4. Remove the entry for \"banana\"\n",
    "5. Add an entry \"date\" with the value 4"
   ]
  },
  {
   "cell_type": "code",
   "execution_count": 23,
   "metadata": {},
   "outputs": [],
   "source": [
    "dct={} #creating a dictionary"
   ]
  },
  {
   "cell_type": "code",
   "execution_count": 24,
   "metadata": {},
   "outputs": [],
   "source": [
    "dct[\"apple\"]=1 #adding pairs\n",
    "dct[\"banana\"]=2.0\n",
    "dct[\"cherry\"]=\"iii\""
   ]
  },
  {
   "cell_type": "code",
   "execution_count": 25,
   "metadata": {},
   "outputs": [
    {
     "data": {
      "text/plain": [
       "{'apple': 1, 'banana': 2.0, 'cherry': 'iii'}"
      ]
     },
     "execution_count": 25,
     "metadata": {},
     "output_type": "execute_result"
    }
   ],
   "source": [
    "{ #adding pairs\n",
    "    \"apple\":1,\n",
    "    \"banana\":2.0,\n",
    "    \"cherry\":\"iii\",\n",
    "}\n"
   ]
  },
  {
   "cell_type": "code",
   "execution_count": 26,
   "metadata": {},
   "outputs": [],
   "source": [
    "dct[\"apple\"] = \"I\"\n"
   ]
  },
  {
   "cell_type": "code",
   "execution_count": 27,
   "metadata": {},
   "outputs": [
    {
     "data": {
      "text/plain": [
       "{'apple': 'I', 'banana': 2.0, 'cherry': 'iii'}"
      ]
     },
     "execution_count": 27,
     "metadata": {},
     "output_type": "execute_result"
    }
   ],
   "source": [
    "{ #replacing the calue of apple with 'I'\n",
    "    'apple': 'I',\n",
    "      'banana': 2.0,\n",
    "        'cherry': 'iii'\n",
    "        \n",
    "}"
   ]
  },
  {
   "cell_type": "code",
   "execution_count": 28,
   "metadata": {},
   "outputs": [],
   "source": [
    "#REMOVING ENTRY FOR \"banana\"\n",
    "del dct[\"banana\"]"
   ]
  },
  {
   "cell_type": "code",
   "execution_count": 29,
   "metadata": {},
   "outputs": [
    {
     "data": {
      "text/plain": [
       "{'apple': 'I', 'cherry': 'iii'}"
      ]
     },
     "execution_count": 29,
     "metadata": {},
     "output_type": "execute_result"
    }
   ],
   "source": [
    "{\n",
    "    'apple': 'I',\n",
    "      'cherry': 'iii'}"
   ]
  },
  {
   "cell_type": "code",
   "execution_count": 30,
   "metadata": {},
   "outputs": [],
   "source": [
    "#add an entry \"date\" with the value 4\n",
    "dct [\"date\"]=4"
   ]
  },
  {
   "cell_type": "code",
   "execution_count": 31,
   "metadata": {},
   "outputs": [
    {
     "data": {
      "text/plain": [
       "{'apple': 'I', 'cherry': 'iii', 'date': 4}"
      ]
     },
     "execution_count": 31,
     "metadata": {},
     "output_type": "execute_result"
    }
   ],
   "source": [
    "{\n",
    "    'apple': 'I',\n",
    "      'cherry': 'iii', \n",
    "      'date': 4\n",
    "}"
   ]
  },
  {
   "cell_type": "markdown",
   "metadata": {
    "pycharm": {
     "name": "#%% md\n"
    }
   },
   "source": [
    "### Exercise: Directly create a Dictionary\n",
    "\n",
    "Using the final verion of `dct` from the previous exercise:\n",
    "\n",
    "1. Directly initialize a new dictionary called `other_dct`.\n",
    "2. Use an f-string to print the values associated with each key.\n",
    "\n",
    "**Hint** You must use both types of quotes. For example, to access a value in\n",
    "an f-string.\n",
    "\n",
    "```python\n",
    "f\"{other_dct['apple']}\"\n",
    "```"
   ]
  },
  {
   "cell_type": "code",
   "execution_count": 32,
   "metadata": {},
   "outputs": [],
   "source": [
    "other_dct = {'apple': 'I', 'cherry': 'iii', 'date': 4}"
   ]
  },
  {
   "cell_type": "code",
   "execution_count": 33,
   "metadata": {},
   "outputs": [
    {
     "name": "stdout",
     "output_type": "stream",
     "text": [
      "The value associated with the key 'apple' is: I\n"
     ]
    }
   ],
   "source": [
    "key=\"apple\"\n",
    "print(f\"The value associated with the key '{key}' is: {other_dct[key]}\")"
   ]
  },
  {
   "cell_type": "markdown",
   "metadata": {},
   "source": [
    "### Exercise: Tuple Manipulation\n",
    "\n",
    "1. Create a tuple `tpl` containing 100 and 4\n",
    "2. Convert to a list, add the elements 101 and 5\n",
    "3. Convert back toa tuple"
   ]
  },
  {
   "cell_type": "code",
   "execution_count": 43,
   "metadata": {},
   "outputs": [],
   "source": [
    "tpl = (100, 4)"
   ]
  },
  {
   "cell_type": "code",
   "execution_count": 44,
   "metadata": {},
   "outputs": [
    {
     "name": "stdout",
     "output_type": "stream",
     "text": [
      "[100, 4, 101, 5]\n"
     ]
    }
   ],
   "source": [
    "# Initial tuple\n",
    "tpl = (100, 4)\n",
    "\n",
    "# Convert the tuple to a list\n",
    "lst = list(tpl)\n",
    "\n",
    "# Add elements 101 and 5 to the list\n",
    "lst.append(101)\n",
    "lst.append(5)\n",
    "\n",
    "print(lst)\n",
    "\n",
    "\n",
    "\n",
    "\n",
    "\n"
   ]
  },
  {
   "cell_type": "code",
   "execution_count": 45,
   "metadata": {},
   "outputs": [
    {
     "name": "stdout",
     "output_type": "stream",
     "text": [
      "(100, 4, 101, 5)\n"
     ]
    }
   ],
   "source": [
    "# List with elements 100, 4, 101, and 5\n",
    "lst = [100, 4, 101, 5]\n",
    "\n",
    "# Convert the list back to a tuple\n",
    "tpl = tuple(lst)\n",
    "\n",
    "print(tpl)"
   ]
  }
 ],
 "metadata": {
  "kernelspec": {
   "display_name": "Python 3",
   "language": "python",
   "name": "python3"
  },
  "language_info": {
   "codemirror_mode": {
    "name": "ipython",
    "version": 3
   },
   "file_extension": ".py",
   "mimetype": "text/x-python",
   "name": "python",
   "nbconvert_exporter": "python",
   "pygments_lexer": "ipython3",
   "version": "3.11.4"
  },
  "pycharm": {
   "stem_cell": {
    "cell_type": "raw",
    "metadata": {
     "collapsed": false
    },
    "source": [
     "\n"
    ]
   }
  }
 },
 "nbformat": 4,
 "nbformat_minor": 1
}
